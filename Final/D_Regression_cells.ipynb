{
 "cells": [
  {
   "cell_type": "code",
   "execution_count": 1,
   "metadata": {},
   "outputs": [],
   "source": [
    "import pandas as pd\n",
    "import numpy as np\n",
    "from matplotlib import pyplot as plt"
   ]
  },
  {
   "cell_type": "code",
   "execution_count": 2,
   "metadata": {
    "scrolled": true
   },
   "outputs": [],
   "source": [
    "#load data frame\n",
    "df = pd.read_csv('profiles.csv')\n"
   ]
  },
  {
   "cell_type": "code",
   "execution_count": 3,
   "metadata": {},
   "outputs": [],
   "source": [
    "#exploring data\n",
    "\n",
    "#list(df)\n",
    "#df.head()\n",
    "#df.age.value_counts()\n",
    "#df.corr()"
   ]
  },
  {
   "cell_type": "code",
   "execution_count": 4,
   "metadata": {},
   "outputs": [],
   "source": [
    "#sorry old people\n",
    "df = df.drop(df[(df.age > 70)].index)"
   ]
  },
  {
   "cell_type": "code",
   "execution_count": 5,
   "metadata": {
    "scrolled": true
   },
   "outputs": [],
   "source": [
    "#finds which features have nans\n",
    "#df.isna().any()\n",
    "features_to_remove = ['body_type','diet','drugs','education','income','ethnicity','height', 'orientation', 'status', 'location','sex','sign','pets','religion','smokes','drinks','speaks', 'last_online']\n",
    "df.drop(labels=features_to_remove, axis=1, inplace=True)\n"
   ]
  },
  {
   "cell_type": "code",
   "execution_count": 6,
   "metadata": {},
   "outputs": [],
   "source": [
    "#replaces nans with 0\n",
    "df.fillna({'age': 0,\n",
    "          'offspring': 0,\n",
    "           'job':0,\n",
    "           'essay0': 0,\n",
    "           'essay1': 0,\n",
    "          'essay2': 0,\n",
    "          'essay3': 0,\n",
    "          'essay4': 0,\n",
    "          'essay5': 0,\n",
    "          'essay6': 0,\n",
    "          'essay7': 0,\n",
    "          'essay8': 0,\n",
    "          'essay9': 0\n",
    "          },\n",
    "          inplace=True)"
   ]
  },
  {
   "cell_type": "code",
   "execution_count": 7,
   "metadata": {
    "scrolled": true
   },
   "outputs": [
    {
     "data": {
      "text/plain": [
       "age          False\n",
       "essay0       False\n",
       "essay1       False\n",
       "essay2       False\n",
       "essay3       False\n",
       "essay4       False\n",
       "essay5       False\n",
       "essay6       False\n",
       "essay7       False\n",
       "essay8       False\n",
       "essay9       False\n",
       "job          False\n",
       "offspring    False\n",
       "dtype: bool"
      ]
     },
     "execution_count": 7,
     "metadata": {},
     "output_type": "execute_result"
    }
   ],
   "source": [
    "# check to make sure there's no more nans\n",
    "#df.isna().any()\n"
   ]
  },
  {
   "cell_type": "code",
   "execution_count": 8,
   "metadata": {},
   "outputs": [
    {
     "data": {
      "text/plain": [
       "59944"
      ]
     },
     "execution_count": 8,
     "metadata": {},
     "output_type": "execute_result"
    }
   ],
   "source": [
    "#len(df)"
   ]
  },
  {
   "cell_type": "code",
   "execution_count": 9,
   "metadata": {},
   "outputs": [],
   "source": [
    "import re\n",
    "all_essays = ['essay0', 'essay1', 'essay2', 'essay3', 'essay4', 'essay5', 'essay6', 'essay7', 'essay8', 'essay9']\n",
    "texting_char = [':)', ':-)', ':(', ':-(', ';)', ';-)', ':p', ':P', ':-P', ':-p', ':0', ':D' '<3', '@', '#', '$']\n",
    "older_words = ['child', 'children', 'kid' 'kids', 'boy', 'boys', 'son', 'sons', 'girl', 'girls', 'daughter', 'daughters', 'parent', 'uncle', 'aunty', 'divorced', 'divorce']\n",
    "#Function matches lists above with text in essay\n",
    "def add_one(text, lst):\n",
    "    num_matches = 0\n",
    "    for i in text:\n",
    "        if i in lst:\n",
    "            num_matches += 1\n",
    "        \n",
    "    return num_matches\n",
    "\n",
    "\n",
    "#strip all alphabetial and HTML Tags\n",
    "#create new column with total amount of texting characters or older people words used in essay for each profile\n",
    "texting_col = 'total_texting_char'\n",
    "older_col = 'total_older_words'\n",
    "texting_pattern = r'[\\n\\w+]|<.+?>'\n",
    "only_alpha = r'[.,;?!]|<.+?>'\n",
    "def match_pattern(essays, match_list, new_column, pattern):\n",
    "    new_df = df.copy(deep = True)\n",
    "    for essay in essays:\n",
    "        new_df[essay] = new_df[essay].apply(lambda x: re.sub(pattern, '', str(x)))\n",
    "        new_df[essay] = new_df[essay].apply(lambda x: x.split(' '))\n",
    "        new_df[essay] = new_df[essay].apply(lambda x: add_one(x, match_list))  \n",
    "    new_df[str(new_column)] = new_df[essays].sum(axis = 1)\n",
    "    features_to_remove = ['age', 'essay0', 'essay1', 'essay2', 'essay3', 'essay4', 'essay5', 'essay6', 'essay7', 'essay8', 'essay9', 'offspring', 'job']\n",
    "    new_df.drop(labels=features_to_remove, axis=1, inplace=True)\n",
    "    return new_df\n",
    "\n",
    "total_texting = match_pattern(all_essays, texting_char, texting_col, texting_pattern)\n",
    "\n",
    "total_older = match_pattern(all_essays, older_words, older_col, only_alpha)\n",
    "\n"
   ]
  },
  {
   "cell_type": "code",
   "execution_count": 10,
   "metadata": {},
   "outputs": [],
   "source": [
    "#join texting/older columns to orginal df\n",
    "re_col = total_texting.join(total_older, lsuffix='total_texting_num', rsuffix='total_older_words')\n",
    "df = df.join(re_col)"
   ]
  },
  {
   "cell_type": "code",
   "execution_count": 11,
   "metadata": {},
   "outputs": [],
   "source": [
    "#drop rows with 0 in texting/older columns\n",
    "\n",
    "df = df.drop(df[(df.total_older_words == 0) & (df.total_texting_char == 0)].index)\n",
    "df.dropna(axis = 0, inplace = True) "
   ]
  },
  {
   "cell_type": "code",
   "execution_count": 12,
   "metadata": {},
   "outputs": [
    {
     "data": {
      "text/html": [
       "<div>\n",
       "<style scoped>\n",
       "    .dataframe tbody tr th:only-of-type {\n",
       "        vertical-align: middle;\n",
       "    }\n",
       "\n",
       "    .dataframe tbody tr th {\n",
       "        vertical-align: top;\n",
       "    }\n",
       "\n",
       "    .dataframe thead th {\n",
       "        text-align: right;\n",
       "    }\n",
       "</style>\n",
       "<table border=\"1\" class=\"dataframe\">\n",
       "  <thead>\n",
       "    <tr style=\"text-align: right;\">\n",
       "      <th></th>\n",
       "      <th>age</th>\n",
       "      <th>total_texting_char</th>\n",
       "      <th>total_older_words</th>\n",
       "    </tr>\n",
       "  </thead>\n",
       "  <tbody>\n",
       "    <tr>\n",
       "      <th>age</th>\n",
       "      <td>1.000000</td>\n",
       "      <td>-0.074117</td>\n",
       "      <td>0.107735</td>\n",
       "    </tr>\n",
       "    <tr>\n",
       "      <th>total_texting_char</th>\n",
       "      <td>-0.074117</td>\n",
       "      <td>1.000000</td>\n",
       "      <td>-0.243604</td>\n",
       "    </tr>\n",
       "    <tr>\n",
       "      <th>total_older_words</th>\n",
       "      <td>0.107735</td>\n",
       "      <td>-0.243604</td>\n",
       "      <td>1.000000</td>\n",
       "    </tr>\n",
       "  </tbody>\n",
       "</table>\n",
       "</div>"
      ],
      "text/plain": [
       "                         age  total_texting_char  total_older_words\n",
       "age                 1.000000           -0.074117           0.107735\n",
       "total_texting_char -0.074117            1.000000          -0.243604\n",
       "total_older_words   0.107735           -0.243604           1.000000"
      ]
     },
     "execution_count": 12,
     "metadata": {},
     "output_type": "execute_result"
    }
   ],
   "source": [
    "df.corr()"
   ]
  },
  {
   "cell_type": "code",
   "execution_count": 13,
   "metadata": {},
   "outputs": [],
   "source": [
    "#map categorical data interested in\n",
    "\n",
    "offspring_map = {0:0,\n",
    "                'doesn&rsquo;t have kids': 1,\n",
    "                'doesn&rsquo;t have kids, but might want them': 2,\n",
    "                'doesn&rsquo;t have kids, but wants them': 3,\n",
    "                'doesn&rsquo;t want kids': 4,\n",
    "                'has kids': 5,\n",
    "                'has a kid': 6,\n",
    "                'doesn&rsquo;t have kids, and doesn&rsquo;t want any': 7,\n",
    "                'has kids, but doesn&rsquo;t want more': 8,\n",
    "                'has a kid, but doesn&rsquo;t want more': 9,\n",
    "                'has a kid, and might want more': 10,\n",
    "                'wants kids': 11,\n",
    "                'might want kids': 12,\n",
    "                'has kids, and might want more': 13,\n",
    "                'has a kid, and wants more': 14,\n",
    "                'has kids, and wants more': 15}\n",
    "\n",
    "job_map = { 0:0,\n",
    "           'other': 1,\n",
    "           'student': 2,\n",
    "           'science / tech / engineering': 3,\n",
    "           'computer / hardware / software': 4,\n",
    "           'artistic / musical / writer': 5,\n",
    "           'sales / marketing / biz dev': 6,\n",
    "           'medicine / health': 7,\n",
    "           'education / academia': 8,\n",
    "           'executive / management': 9,\n",
    "           'banking / financial / real estate': 10,\n",
    "           'entertainment / media': 11,\n",
    "           'law / legal services': 12,\n",
    "           'hospitality / travel': 13,\n",
    "           'construction / craftsmanship': 14,\n",
    "          'clerical / administrative': 15, \n",
    "          'political / government': 16,\n",
    "          'rather not say': 17,\n",
    "          'transportation': 18,\n",
    "          'unemployed': 19,\n",
    "          'retired': 20,\n",
    "          'military': 21}\n",
    "\n",
    "df['job_code'] = df.job.map(job_map)\n",
    "df['offspring_code'] = df.offspring.map(offspring_map)"
   ]
  },
  {
   "cell_type": "code",
   "execution_count": 14,
   "metadata": {},
   "outputs": [
    {
     "data": {
      "text/plain": [
       "26445"
      ]
     },
     "execution_count": 14,
     "metadata": {},
     "output_type": "execute_result"
    }
   ],
   "source": [
    "len(df)"
   ]
  },
  {
   "cell_type": "code",
   "execution_count": 15,
   "metadata": {},
   "outputs": [
    {
     "data": {
      "text/html": [
       "<div>\n",
       "<style scoped>\n",
       "    .dataframe tbody tr th:only-of-type {\n",
       "        vertical-align: middle;\n",
       "    }\n",
       "\n",
       "    .dataframe tbody tr th {\n",
       "        vertical-align: top;\n",
       "    }\n",
       "\n",
       "    .dataframe thead th {\n",
       "        text-align: right;\n",
       "    }\n",
       "</style>\n",
       "<table border=\"1\" class=\"dataframe\">\n",
       "  <thead>\n",
       "    <tr style=\"text-align: right;\">\n",
       "      <th></th>\n",
       "      <th>age</th>\n",
       "      <th>essay0</th>\n",
       "      <th>essay1</th>\n",
       "      <th>essay2</th>\n",
       "      <th>essay3</th>\n",
       "      <th>essay4</th>\n",
       "      <th>essay5</th>\n",
       "      <th>essay6</th>\n",
       "      <th>essay7</th>\n",
       "      <th>essay8</th>\n",
       "      <th>essay9</th>\n",
       "      <th>job</th>\n",
       "      <th>offspring</th>\n",
       "      <th>total_texting_char</th>\n",
       "      <th>total_older_words</th>\n",
       "      <th>job_code</th>\n",
       "      <th>offspring_code</th>\n",
       "    </tr>\n",
       "  </thead>\n",
       "  <tbody>\n",
       "    <tr>\n",
       "      <th>1</th>\n",
       "      <td>35</td>\n",
       "      <td>i am a chef: this is what that means.&lt;br /&gt;\\n1...</td>\n",
       "      <td>dedicating everyday to being an unbelievable b...</td>\n",
       "      <td>being silly. having ridiculous amonts of fun w...</td>\n",
       "      <td>0</td>\n",
       "      <td>i am die hard christopher moore fan. i don't r...</td>\n",
       "      <td>delicious porkness in all of its glories.&lt;br /...</td>\n",
       "      <td>0</td>\n",
       "      <td>0</td>\n",
       "      <td>i am very open and will share just about anyth...</td>\n",
       "      <td>0</td>\n",
       "      <td>hospitality / travel</td>\n",
       "      <td>doesn&amp;rsquo;t have kids, but might want them</td>\n",
       "      <td>3</td>\n",
       "      <td>0</td>\n",
       "      <td>13</td>\n",
       "      <td>2</td>\n",
       "    </tr>\n",
       "    <tr>\n",
       "      <th>9</th>\n",
       "      <td>37</td>\n",
       "      <td>my names jake.&lt;br /&gt;\\ni'm a creative guy and i...</td>\n",
       "      <td>i have an apartment. i like to explore and che...</td>\n",
       "      <td>i'm good at finding creative solutions to prob...</td>\n",
       "      <td>i'm short</td>\n",
       "      <td>i like some tv. i love summer heights high and...</td>\n",
       "      <td>music, my guitar&lt;br /&gt;\\ncontrast&lt;br /&gt;\\ngood f...</td>\n",
       "      <td>&lt;strong&gt;&lt;em&gt;you should&lt;/em&gt;&lt;/strong&gt;</td>\n",
       "      <td>&lt;strong&gt;&lt;em&gt;send a message&lt;/em&gt;&lt;/strong&gt;</td>\n",
       "      <td>&lt;em&gt;&lt;strong&gt;and say hi.&lt;/strong&gt;&lt;/em&gt;</td>\n",
       "      <td>you can rock the bells</td>\n",
       "      <td>student</td>\n",
       "      <td>0</td>\n",
       "      <td>0</td>\n",
       "      <td>1</td>\n",
       "      <td>2</td>\n",
       "      <td>0</td>\n",
       "    </tr>\n",
       "    <tr>\n",
       "      <th>10</th>\n",
       "      <td>35</td>\n",
       "      <td>update: i'm seeing someone, so off the market ...</td>\n",
       "      <td>i have three jobs. i've been doing sound and l...</td>\n",
       "      <td>hugging, kissing, laughing, motivating people,...</td>\n",
       "      <td>my huge goofy smile</td>\n",
       "      <td>i'm constantly reading, i read at what my frie...</td>\n",
       "      <td>family&lt;br /&gt;\\nfriends&lt;br /&gt;\\nfood&lt;br /&gt;\\nwomen...</td>\n",
       "      <td>snowboarding, food, women, goofy nerd stuff, a...</td>\n",
       "      <td>having dinner and drinks with friends and/or w...</td>\n",
       "      <td>i used to wish for a jetpack when blowing out ...</td>\n",
       "      <td>you are a complex woman with healthy self-este...</td>\n",
       "      <td>0</td>\n",
       "      <td>0</td>\n",
       "      <td>1</td>\n",
       "      <td>3</td>\n",
       "      <td>0</td>\n",
       "      <td>0</td>\n",
       "    </tr>\n",
       "    <tr>\n",
       "      <th>11</th>\n",
       "      <td>28</td>\n",
       "      <td>i was born in wisconsin, grew up in iowa, and ...</td>\n",
       "      <td>i'm currently the youngest member on an intern...</td>\n",
       "      <td>i'm really good at a little bit of everything....</td>\n",
       "      <td>the way i dress. some days it's hats, other da...</td>\n",
       "      <td>books = yes. avid reader.&lt;br /&gt;\\nmoves = etern...</td>\n",
       "      <td>guitar - even if i don't play it all the time,...</td>\n",
       "      <td>a little bit of everything. but mostly social ...</td>\n",
       "      <td>hanging out with a small group of friends--sta...</td>\n",
       "      <td>i'm picky when it comes to dating. i know what...</td>\n",
       "      <td>if you know who you are, who you want, where y...</td>\n",
       "      <td>banking / financial / real estate</td>\n",
       "      <td>0</td>\n",
       "      <td>3</td>\n",
       "      <td>0</td>\n",
       "      <td>10</td>\n",
       "      <td>0</td>\n",
       "    </tr>\n",
       "    <tr>\n",
       "      <th>15</th>\n",
       "      <td>39</td>\n",
       "      <td>0</td>\n",
       "      <td>dancing, playing, exploring, smiling, and doin...</td>\n",
       "      <td>obscure dances from the '30's and '40's, laugh...</td>\n",
       "      <td>you tell me:)</td>\n",
       "      <td>i don't really pick favorites. variety is the ...</td>\n",
       "      <td>i work with children with disabilities for a l...</td>\n",
       "      <td>how to live a joyful, playful life.</td>\n",
       "      <td>i'm usually pretty exhausted by friday. so usu...</td>\n",
       "      <td>i hated cleaning the litter box so much, i tau...</td>\n",
       "      <td>0</td>\n",
       "      <td>medicine / health</td>\n",
       "      <td>doesn&amp;rsquo;t have kids</td>\n",
       "      <td>1</td>\n",
       "      <td>2</td>\n",
       "      <td>7</td>\n",
       "      <td>1</td>\n",
       "    </tr>\n",
       "  </tbody>\n",
       "</table>\n",
       "</div>"
      ],
      "text/plain": [
       "    age                                             essay0  \\\n",
       "1    35  i am a chef: this is what that means.<br />\\n1...   \n",
       "9    37  my names jake.<br />\\ni'm a creative guy and i...   \n",
       "10   35  update: i'm seeing someone, so off the market ...   \n",
       "11   28  i was born in wisconsin, grew up in iowa, and ...   \n",
       "15   39                                                  0   \n",
       "\n",
       "                                               essay1  \\\n",
       "1   dedicating everyday to being an unbelievable b...   \n",
       "9   i have an apartment. i like to explore and che...   \n",
       "10  i have three jobs. i've been doing sound and l...   \n",
       "11  i'm currently the youngest member on an intern...   \n",
       "15  dancing, playing, exploring, smiling, and doin...   \n",
       "\n",
       "                                               essay2  \\\n",
       "1   being silly. having ridiculous amonts of fun w...   \n",
       "9   i'm good at finding creative solutions to prob...   \n",
       "10  hugging, kissing, laughing, motivating people,...   \n",
       "11  i'm really good at a little bit of everything....   \n",
       "15  obscure dances from the '30's and '40's, laugh...   \n",
       "\n",
       "                                               essay3  \\\n",
       "1                                                   0   \n",
       "9                                           i'm short   \n",
       "10                                my huge goofy smile   \n",
       "11  the way i dress. some days it's hats, other da...   \n",
       "15                                      you tell me:)   \n",
       "\n",
       "                                               essay4  \\\n",
       "1   i am die hard christopher moore fan. i don't r...   \n",
       "9   i like some tv. i love summer heights high and...   \n",
       "10  i'm constantly reading, i read at what my frie...   \n",
       "11  books = yes. avid reader.<br />\\nmoves = etern...   \n",
       "15  i don't really pick favorites. variety is the ...   \n",
       "\n",
       "                                               essay5  \\\n",
       "1   delicious porkness in all of its glories.<br /...   \n",
       "9   music, my guitar<br />\\ncontrast<br />\\ngood f...   \n",
       "10  family<br />\\nfriends<br />\\nfood<br />\\nwomen...   \n",
       "11  guitar - even if i don't play it all the time,...   \n",
       "15  i work with children with disabilities for a l...   \n",
       "\n",
       "                                               essay6  \\\n",
       "1                                                   0   \n",
       "9                <strong><em>you should</em></strong>   \n",
       "10  snowboarding, food, women, goofy nerd stuff, a...   \n",
       "11  a little bit of everything. but mostly social ...   \n",
       "15                how to live a joyful, playful life.   \n",
       "\n",
       "                                               essay7  \\\n",
       "1                                                   0   \n",
       "9            <strong><em>send a message</em></strong>   \n",
       "10  having dinner and drinks with friends and/or w...   \n",
       "11  hanging out with a small group of friends--sta...   \n",
       "15  i'm usually pretty exhausted by friday. so usu...   \n",
       "\n",
       "                                               essay8  \\\n",
       "1   i am very open and will share just about anyth...   \n",
       "9               <em><strong>and say hi.</strong></em>   \n",
       "10  i used to wish for a jetpack when blowing out ...   \n",
       "11  i'm picky when it comes to dating. i know what...   \n",
       "15  i hated cleaning the litter box so much, i tau...   \n",
       "\n",
       "                                               essay9  \\\n",
       "1                                                   0   \n",
       "9                              you can rock the bells   \n",
       "10  you are a complex woman with healthy self-este...   \n",
       "11  if you know who you are, who you want, where y...   \n",
       "15                                                  0   \n",
       "\n",
       "                                  job  \\\n",
       "1                hospitality / travel   \n",
       "9                             student   \n",
       "10                                  0   \n",
       "11  banking / financial / real estate   \n",
       "15                  medicine / health   \n",
       "\n",
       "                                       offspring  total_texting_char  \\\n",
       "1   doesn&rsquo;t have kids, but might want them                   3   \n",
       "9                                              0                   0   \n",
       "10                                             0                   1   \n",
       "11                                             0                   3   \n",
       "15                       doesn&rsquo;t have kids                   1   \n",
       "\n",
       "    total_older_words  job_code  offspring_code  \n",
       "1                   0        13               2  \n",
       "9                   1         2               0  \n",
       "10                  3         0               0  \n",
       "11                  0        10               0  \n",
       "15                  2         7               1  "
      ]
     },
     "execution_count": 15,
     "metadata": {},
     "output_type": "execute_result"
    }
   ],
   "source": [
    "#df.head()"
   ]
  },
  {
   "cell_type": "code",
   "execution_count": 16,
   "metadata": {},
   "outputs": [],
   "source": [
    "import numpy as np\n",
    "from sklearn.neighbors import KNeighborsRegressor\n",
    "from sklearn.model_selection import train_test_split\n",
    "\n",
    "#find k value with best R2 score\n",
    "def knn_model(feature_list):\n",
    "    scores = []\n",
    "    labels = df.loc[:,'age']\n",
    "    features = df.loc[:,feature_list]\n",
    "    train_data, test_data, train_labels, test_labels = train_test_split(features, labels, test_size = 0.2, random_state = 1)\n",
    "    \n",
    "    for k in range(1, 50):\n",
    "        regressor = KNeighborsRegressor(n_neighbors = k)\n",
    "        regressor.fit(train_data, train_labels)\n",
    "        scores.append(regressor.score(test_data, test_labels))\n",
    "    k_values = range(1,50)\n",
    "    k_score = list(zip(k_values, scores))\n",
    "    best_score = sorted(k_score, key=lambda tup: tup[1], reverse = True)\n",
    "    print('Best Score:', best_score[0])\n",
    "        \n",
    "    plt.plot(range(1,50), scores)\n",
    "    plt.xlabel('K-values')\n",
    "    plt.ylabel('Regressor Score')\n",
    "    plt.show()\n",
    "\n",
    "    "
   ]
  },
  {
   "cell_type": "code",
   "execution_count": 17,
   "metadata": {},
   "outputs": [],
   "source": [
    "from sklearn.metrics import mean_squared_error\n",
    "from sklearn.metrics import r2_score\n",
    "\n",
    "#predict age with best k\n",
    "def knn_predict(feature_list, k):\n",
    "    scores = []\n",
    "    labels = df.loc[:,'age']\n",
    "    features = df.loc[:,feature_list]\n",
    "    train_data, test_data, train_labels, test_labels = train_test_split(features, labels, test_size = 0.2, random_state = 1)\n",
    "    regressor = KNeighborsRegressor(n_neighbors = k)\n",
    "    regressor.fit(train_data, train_labels)\n",
    "    scores.append(regressor.score(test_data, test_labels))\n",
    "    \n",
    "    # calculate predicted age using test_data\n",
    "    predict_age = regressor.predict(test_data)\n",
    "    print('Mean Squared Erorr:', mean_squared_error(test_labels, predict_age))\n",
    "    print('R2 Score:', r2_score(test_labels, predict_age))\n",
    "\n",
    "    plt.scatter(test_labels, predict_age, alpha = .1)\n",
    "    plt.xlabel('Age')\n",
    "    plt.ylabel('Predicted Age')\n",
    "    plt.ylim(18,70)\n",
    "    plt.show()"
   ]
  },
  {
   "cell_type": "code",
   "execution_count": 18,
   "metadata": {},
   "outputs": [],
   "source": [
    "import numpy as np\n",
    "from sklearn.linear_model import LinearRegression\n",
    "from sklearn.model_selection import train_test_split\n",
    "from sklearn.metrics import mean_squared_error\n",
    "from sklearn.metrics import r2_score\n",
    "\n",
    "def linear_model(feature_list):\n",
    "    labels = df.loc[:,'age']\n",
    "    features = df.loc[:,feature_list]\n",
    "    \n",
    "    train_data, test_data, train_labels, test_labels = train_test_split(features, labels, test_size = 0.2, random_state = 1)\n",
    "    \n",
    "    if len(train_data.shape) < 2:\n",
    "        train_data = np.array(train_data).reshape(-1,1)\n",
    "        test_data = np.array(test_data).reshape(-1,1)\n",
    "    \n",
    "    model = LinearRegression()\n",
    "    model.fit(train_data, train_labels)\n",
    "    \n",
    "    # print the train and test scores\n",
    "    print('Train Score:', model.score(train_data, train_labels))\n",
    "    print('Test Score:', model.score(test_data, test_labels))\n",
    "    \n",
    "    # print the model features and their corresponding coefficients, from most predictive to least predictive\n",
    "    print('Features Coefficients (most to least predictive):', sorted(list(zip(feature_list,model.coef_)),key = lambda x: abs(x[1]),reverse=True))\n",
    "    \n",
    "    # calculate predicted age using test_data\n",
    "    predict_age = model.predict(test_data)\n",
    "    \n",
    "    print('Mean Squared Erorr:', mean_squared_error(test_labels, predict_age))\n",
    "    \n",
    "    print('R2 Score:', r2_score(test_labels, predict_age))\n",
    "    \n",
    "    plt.scatter(test_labels, predict_age, alpha = .1)\n",
    "    plt.xlabel('Age')\n",
    "    plt.ylabel('Predicted Age')\n",
    "    plt.ylim(18,70)\n",
    "    plt.show()"
   ]
  },
  {
   "cell_type": "code",
   "execution_count": 19,
   "metadata": {},
   "outputs": [
    {
     "name": "stdout",
     "output_type": "stream",
     "text": [
      "Train Score: 0.1242904862429125\n",
      "Test Score: 0.11747622288448178\n",
      "Features Coefficients (most to least predictive): [('offspring_code', 1.118245830616006), ('total_older_words', 0.32645934541977517), ('total_texting_char', -0.2936655289636713), ('job_code', 0.23975351360954078)]\n",
      "Mean Squared Erorr: 78.20196092779348\n",
      "R2 Score: 0.11747622288448178\n"
     ]
    },
    {
     "data": {
      "image/png": "[encoded data removed]",
      "text/plain": [
       "<Figure size 432x288 with 1 Axes>"
      ]
     },
     "metadata": {
      "needs_background": "light"
     },
     "output_type": "display_data"
    }
   ],
   "source": [
    "features = ['total_older_words', 'total_texting_char', 'offspring_code', 'job_code']\n",
    "\n",
    "\n",
    "linear_model(features)\n"
   ]
  },
  {
   "cell_type": "code",
   "execution_count": 20,
   "metadata": {
    "scrolled": false
   },
   "outputs": [
    {
     "name": "stdout",
     "output_type": "stream",
     "text": [
      "Best Score: (40, 0.2751987925487379)\n"
     ]
    },
    {
     "data": {
      "image/png": "[encoded data removed]",
      "text/plain": [
       "<Figure size 432x288 with 1 Axes>"
      ]
     },
     "metadata": {
      "needs_background": "light"
     },
     "output_type": "display_data"
    }
   ],
   "source": [
    "knn_model(features)"
   ]
  },
  {
   "cell_type": "code",
   "execution_count": 21,
   "metadata": {},
   "outputs": [
    {
     "name": "stdout",
     "output_type": "stream",
     "text": [
      "Mean Squared Erorr: 64.22589076384949\n",
      "R2 Score: 0.2751987925487379\n"
     ]
    },
    {
     "data": {
      "image/png": "[encoded data removed]",
      "text/plain": [
       "<Figure size 432x288 with 1 Axes>"
      ]
     },
     "metadata": {
      "needs_background": "light"
     },
     "output_type": "display_data"
    }
   ],
   "source": [
    "knn_predict(features, 40)"
   ]
  }
 ],
 "metadata": {
  "kernelspec": {
   "display_name": "Python 3",
   "language": "python",
   "name": "python3"
  },
  "language_info": {
   "codemirror_mode": {
    "name": "ipython",
    "version": 3
   },
   "file_extension": ".py",
   "mimetype": "text/x-python",
   "name": "python",
   "nbconvert_exporter": "python",
   "pygments_lexer": "ipython3",
   "version": "3.7.0"
  }
 },
 "nbformat": 4,
 "nbformat_minor": 2
}
