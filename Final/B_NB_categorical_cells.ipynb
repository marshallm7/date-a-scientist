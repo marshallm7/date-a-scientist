{
 "cells": [
  {
   "cell_type": "code",
   "execution_count": 1,
   "metadata": {},
   "outputs": [],
   "source": [
    "import pandas as pd\n",
    "import numpy as np\n",
    "from matplotlib import pyplot as plt"
   ]
  },
  {
   "cell_type": "code",
   "execution_count": 2,
   "metadata": {},
   "outputs": [],
   "source": [
    "#load data frame\n",
    "df = pd.read_csv('profiles.csv')"
   ]
  },
  {
   "cell_type": "code",
   "execution_count": 3,
   "metadata": {},
   "outputs": [],
   "source": [
    "#exploring data\n",
    "\n",
    "#df.head()\n",
    "#df.offspring.head()\n",
    "#df.age.value_counts()"
   ]
  },
  {
   "cell_type": "code",
   "execution_count": 4,
   "metadata": {},
   "outputs": [],
   "source": [
    "#replaces nans with '0'\n",
    "df.fillna({'age': 0,\n",
    "           'diet': 0,\n",
    "           'drugs': 0,\n",
    "          'job': 0,\n",
    "          'offspring': 0,\n",
    "          'smokes': 0,\n",
    "           'drinks': 0,\n",
    "          'income': 0},\n",
    "          inplace=True)"
   ]
  },
  {
   "cell_type": "code",
   "execution_count": 5,
   "metadata": {},
   "outputs": [],
   "source": [
    "# check to make sure there's no more nans\n",
    "#df.isna().any()\n"
   ]
  },
  {
   "cell_type": "code",
   "execution_count": 6,
   "metadata": {},
   "outputs": [],
   "source": [
    "#map categorical data interested in\n",
    "\n",
    "orientation_map = {\n",
    "                   'straight': 1,\n",
    "                   'gay': 2,\n",
    "                   'bisexual': 3}\n",
    "sex_map = {\n",
    "           'm': 1,\n",
    "           'f': 2}\n",
    "smokes_map = { \n",
    "              'no': 1,\n",
    "              'sometimes': 2, \n",
    "              'when drinking': 3,\n",
    "              'yes': 4,\n",
    "              'trying to quit': 5}\n",
    "drugs_map = {\n",
    "             'never': 1, \n",
    "             'sometimes': 2, \n",
    "             'often': 3}\n",
    "drinks_map = {\n",
    "             'not at all': 1,\n",
    "             'rarely': 2, \n",
    "             'socially': 3,\n",
    "             'often': 4, \n",
    "             'very often': 5, \n",
    "             'desperately': 6}\n",
    "job_map = {\n",
    "           'other': 1,\n",
    "           'student': 2,\n",
    "           'science / tech / engineering': 3,\n",
    "           'computer / hardware / software': 4,\n",
    "           'artistic / musical / writer': 5,\n",
    "           'sales / marketing / biz dev': 6,\n",
    "           'medicine / health': 7,\n",
    "           'education / academia': 8,\n",
    "           'executive / management': 9,\n",
    "           'banking / financial / real estate': 10,\n",
    "           'entertainment / media': 11,\n",
    "           'law / legal services': 12,\n",
    "           'hospitality / travel': 13,\n",
    "           'construction / craftsmanship': 14,\n",
    "          'clerical / administrative': 15, \n",
    "          'political / government': 16,\n",
    "          'rather not say': 17,\n",
    "          'transportation': 18,\n",
    "          'unemployed': 19,\n",
    "          'retired': 20,\n",
    "          'military': 21}\n",
    "\n",
    "\n",
    "\n",
    "df['sex_code'] = df.sex.map(sex_map)\n",
    "df['orientation_code'] = df.orientation.map(orientation_map)\n",
    "df['smokes_code'] = df.smokes.map(smokes_map)\n",
    "df['drinks_code'] = df.drinks.map(drinks_map)\n",
    "df['drugs_code'] = df.drugs.map(drugs_map)\n",
    "df['job_code'] = df.job.map(job_map)"
   ]
  },
  {
   "cell_type": "code",
   "execution_count": 7,
   "metadata": {},
   "outputs": [
    {
     "data": {
      "text/plain": [
       "0.0    4522\n",
       "1.0    3861\n",
       "Name: offspring_label, dtype: int64"
      ]
     },
     "execution_count": 7,
     "metadata": {},
     "output_type": "execute_result"
    }
   ],
   "source": [
    "#create labels to predict\n",
    "df.loc[df['offspring'] == 'doesn&rsquo;t have kids, but wants them', 'offspring_label'] = 1\n",
    "df.loc[df['offspring'] == 'wants kids', 'offspring_label'] = 1\n",
    "df.loc[df['offspring'] == 'has a kid, and wants more', 'offspring_label'] = 1\n",
    "df.loc[df['offspring'] == 'has kids, and wants more', 'offspring_label'] = 1\n",
    "\n",
    "\n",
    "df.loc[df['offspring'] == 'doesn&rsquo;t want kids', 'offspring_label'] = 0\n",
    "df.loc[df['offspring'] == 'doesn&rsquo;t have kids, and doesn&rsquo;t want any', 'offspring_label'] = 0\n",
    "df.loc[df['offspring'] == 'has kids, but doesn&rsquo;t want more', 'offspring_label'] = 0\n",
    "df.loc[df['offspring'] == 'has kids, and wants more', 'offspring_label'] = 0\n",
    "\n",
    "\n",
    "df.offspring_label.value_counts()"
   ]
  },
  {
   "cell_type": "code",
   "execution_count": 8,
   "metadata": {},
   "outputs": [],
   "source": [
    "df.dropna(axis = 0, subset = ['offspring_label'], inplace = True) \n",
    "df.dropna(axis = 0, subset = ['sex_code', 'orientation_code', 'smokes_code', 'drinks_code', 'drugs_code', 'age', 'job_code', 'income'], inplace = True)\n"
   ]
  },
  {
   "cell_type": "code",
   "execution_count": 9,
   "metadata": {},
   "outputs": [
    {
     "data": {
      "text/plain": [
       "6236"
      ]
     },
     "execution_count": 9,
     "metadata": {},
     "output_type": "execute_result"
    }
   ],
   "source": [
    "#len(df['offspring_label'])"
   ]
  },
  {
   "cell_type": "code",
   "execution_count": 10,
   "metadata": {},
   "outputs": [],
   "source": [
    "#Visualize Data\n",
    "#plt.figure(figsize=(8,8))\n",
    "#plt.hist(df.drinks_code, bins=20)\n",
    "#plt.xlabel('Drinking')\n",
    "#plt.ylabel(\"Amount of People\")\n",
    "#plt.xticks(np.arange(7), ('nan', 'not at all', 'rarely', 'socially', 'often', 'very often', 'desperately'))\n",
    "\n",
    "#plt.show()\n",
    "\n"
   ]
  },
  {
   "cell_type": "code",
   "execution_count": 11,
   "metadata": {
    "scrolled": true
   },
   "outputs": [],
   "source": [
    "#plt.hist(df.drugs_code, bins=20)\n",
    "#plt.xlabel('Drugs')\n",
    "#plt.ylabel(\"Amount of People\")\n",
    "#plt.xticks(np.arange(4), ('nan', 'never', 'sometimes', 'often'))\n",
    "#plt.show()"
   ]
  },
  {
   "cell_type": "code",
   "execution_count": 12,
   "metadata": {},
   "outputs": [],
   "source": [
    "#convert int64 features to str for count vectorizer\n",
    "df.age = df.age.astype(str)\n",
    "df.income = df.income.astype(str)"
   ]
  },
  {
   "cell_type": "code",
   "execution_count": 14,
   "metadata": {},
   "outputs": [],
   "source": [
    "\n",
    "labels = df['offspring_label']\n",
    "\n",
    "data = df['sex'] + df['orientation'] + df['smokes'] + df['drinks'] + df['drugs'] + df['age'] + df['job'] + df['income']\n"
   ]
  },
  {
   "cell_type": "code",
   "execution_count": 16,
   "metadata": {},
   "outputs": [],
   "source": [
    "from sklearn.model_selection import train_test_split\n",
    "\n",
    "train_data, test_data, train_labels, test_labels = train_test_split(data, labels, test_size = 0.2, random_state = 1)"
   ]
  },
  {
   "cell_type": "code",
   "execution_count": 17,
   "metadata": {},
   "outputs": [],
   "source": [
    "from sklearn.feature_extraction.text import CountVectorizer\n",
    "\n",
    "counter = CountVectorizer()\n",
    "counter.fit(train_data, test_data)\n",
    "train_counts = counter.transform(train_data)\n",
    "test_counts = counter.transform(test_data)"
   ]
  },
  {
   "cell_type": "code",
   "execution_count": 19,
   "metadata": {},
   "outputs": [],
   "source": [
    "from sklearn.naive_bayes import MultinomialNB\n",
    "\n",
    "classifier = MultinomialNB()\n",
    "classifier.fit(train_counts, train_labels)\n",
    "predictions = classifier.predict(test_counts)"
   ]
  },
  {
   "cell_type": "code",
   "execution_count": 20,
   "metadata": {},
   "outputs": [],
   "source": [
    "#%timeit classifier.fit(train_counts, train_labels)\n",
    "#%timeit predictions = classifier.predict(test_counts)"
   ]
  },
  {
   "cell_type": "code",
   "execution_count": 21,
   "metadata": {},
   "outputs": [
    {
     "name": "stdout",
     "output_type": "stream",
     "text": [
      "accuracy score =  0.6594551282051282\n",
      "precision score =  0.6203703703703703\n",
      "recall score =  0.6036036036036037\n",
      "F1 score =  0.6118721461187215\n"
     ]
    }
   ],
   "source": [
    "from sklearn.metrics import accuracy_score, f1_score, precision_score, recall_score\n",
    "\n",
    "print('accuracy score = ', str(accuracy_score(test_labels, predictions)))\n",
    "print('precision score = ', str(precision_score(test_labels, predictions)))\n",
    "print('recall score = ', str(recall_score(test_labels, predictions)))\n",
    "print('F1 score = ', str(f1_score(test_labels, predictions)))"
   ]
  },
  {
   "cell_type": "code",
   "execution_count": 22,
   "metadata": {},
   "outputs": [
    {
     "name": "stdout",
     "output_type": "stream",
     "text": [
      "[[488 205]\n",
      " [220 335]]\n"
     ]
    }
   ],
   "source": [
    "from sklearn.metrics import confusion_matrix\n",
    "\n",
    "print(confusion_matrix(test_labels, predictions))"
   ]
  },
  {
   "cell_type": "code",
   "execution_count": 23,
   "metadata": {},
   "outputs": [
    {
     "data": {
      "image/png": "[encoded data removed]",
      "text/plain": [
       "<Figure size 432x288 with 2 Axes>"
      ]
     },
     "metadata": {
      "needs_background": "light"
     },
     "output_type": "display_data"
    }
   ],
   "source": [
    "alpha = ['Positive', 'Negative']\n",
    "\n",
    "matrix = confusion_matrix(test_labels, predictions)\n",
    "\n",
    "fig = plt.figure()\n",
    "ax = fig.add_subplot(111)\n",
    "cax = ax.matshow(matrix, interpolation='nearest')\n",
    "fig.colorbar(cax)\n",
    "\n",
    "ax.set_xticklabels(['']+alpha)\n",
    "ax.set_yticklabels(['']+alpha)\n",
    "\n",
    "plt.show()"
   ]
  }
 ],
 "metadata": {
  "kernelspec": {
   "display_name": "Python 3",
   "language": "python",
   "name": "python3"
  },
  "language_info": {
   "codemirror_mode": {
    "name": "ipython",
    "version": 3
   },
   "file_extension": ".py",
   "mimetype": "text/x-python",
   "name": "python",
   "nbconvert_exporter": "python",
   "pygments_lexer": "ipython3",
   "version": "3.7.0"
  }
 },
 "nbformat": 4,
 "nbformat_minor": 2
}
