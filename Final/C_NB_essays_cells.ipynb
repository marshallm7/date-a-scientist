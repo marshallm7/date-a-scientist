{
 "cells": [
  {
   "cell_type": "code",
   "execution_count": 1,
   "metadata": {},
   "outputs": [],
   "source": [
    "import pandas as pd\n",
    "import numpy as np\n",
    "from matplotlib import pyplot as plt"
   ]
  },
  {
   "cell_type": "code",
   "execution_count": 2,
   "metadata": {
    "scrolled": true
   },
   "outputs": [],
   "source": [
    "#load data frame\n",
    "df = pd.read_csv('profiles.csv')"
   ]
  },
  {
   "cell_type": "code",
   "execution_count": 3,
   "metadata": {},
   "outputs": [],
   "source": [
    "#exploring data\n",
    "\n",
    "#df.head()\n",
    "#df.offspring.head()\n",
    "#df.essay0.value_counts()"
   ]
  },
  {
   "cell_type": "code",
   "execution_count": 4,
   "metadata": {},
   "outputs": [],
   "source": [
    "features_to_remove = ['body_type','sex','job','age','diet','drugs','education','income','ethnicity','height', 'orientation', 'status', 'location','sign','pets','religion','smokes','drinks','speaks', 'last_online']\n",
    "df.drop(labels=features_to_remove, axis=1, inplace=True)"
   ]
  },
  {
   "cell_type": "code",
   "execution_count": 5,
   "metadata": {},
   "outputs": [
    {
     "data": {
      "text/plain": [
       "0.0    4522\n",
       "1.0    3861\n",
       "Name: offspring_label, dtype: int64"
      ]
     },
     "execution_count": 5,
     "metadata": {},
     "output_type": "execute_result"
    }
   ],
   "source": [
    "#create labels to predict (wants kids: 1, doesn't want kids : 0)\n",
    "\n",
    "df.loc[df['offspring'] == 'doesn&rsquo;t have kids, but wants them', 'offspring_label'] = 1\n",
    "df.loc[df['offspring'] == 'wants kids', 'offspring_label'] = 1\n",
    "df.loc[df['offspring'] == 'has a kid, and wants more', 'offspring_label'] = 1\n",
    "df.loc[df['offspring'] == 'has kids, and wants more', 'offspring_label'] = 1\n",
    "\n",
    "\n",
    "df.loc[df['offspring'] == 'doesn&rsquo;t want kids', 'offspring_label'] = 0\n",
    "df.loc[df['offspring'] == 'doesn&rsquo;t have kids, and doesn&rsquo;t want any', 'offspring_label'] = 0\n",
    "df.loc[df['offspring'] == 'has kids, but doesn&rsquo;t want more', 'offspring_label'] = 0\n",
    "df.loc[df['offspring'] == 'has kids, and wants more', 'offspring_label'] = 0\n",
    "\n",
    "\n",
    "df.offspring_label.value_counts()"
   ]
  },
  {
   "cell_type": "code",
   "execution_count": 6,
   "metadata": {},
   "outputs": [],
   "source": [
    "#drop nans (rows where offspring answer = might want kids or no answer)\n",
    "df.dropna(axis = 0, subset = ['offspring_label'], inplace = True) \n",
    " \n",
    "df.fillna({'essay0': '',\n",
    "           'essay1': '',\n",
    "          'essay2': '',\n",
    "          'essay3': '',\n",
    "          'essay4': '',\n",
    "          'essay5': '',\n",
    "          'essay6': '',\n",
    "          'essay7': '',\n",
    "          'essay8': '',\n",
    "          'essay9': ''\n",
    "          },\n",
    "          inplace=True)"
   ]
  },
  {
   "cell_type": "code",
   "execution_count": 7,
   "metadata": {
    "scrolled": true
   },
   "outputs": [],
   "source": [
    "# check to make sure there's no more nans in essays\n",
    "#df.isna().any()\n"
   ]
  },
  {
   "cell_type": "code",
   "execution_count": 8,
   "metadata": {},
   "outputs": [],
   "source": [
    "#amount of rows used for classifier after cleaning data\n",
    "#len(df['offspring_label'])"
   ]
  },
  {
   "cell_type": "code",
   "execution_count": 9,
   "metadata": {},
   "outputs": [],
   "source": [
    "#top_essays() : Trains each individual essay separately and then puts accuracy, precision and recall score in df\n",
    "from sklearn.model_selection import train_test_split\n",
    "from sklearn.feature_extraction.text import CountVectorizer\n",
    "from sklearn.naive_bayes import MultinomialNB\n",
    "from sklearn.metrics import accuracy_score, f1_score, precision_score, recall_score\n",
    "def top_essays(essay):\n",
    "    labels = df['offspring_label']\n",
    "    precision = []\n",
    "    recall = []\n",
    "    accuracy = []\n",
    "    f1 = []\n",
    "    for essay in data:\n",
    "        train_data, test_data, train_labels, test_labels = train_test_split(essay, labels, test_size = 0.2, random_state = 1)\n",
    "        counter = CountVectorizer()\n",
    "        \n",
    "        counter.fit(train_data, test_data)\n",
    "        train_counts = counter.transform(train_data)\n",
    "        test_counts = counter.transform(test_data)\n",
    "        \n",
    "        classifier = MultinomialNB()\n",
    "        classifier.fit(train_counts, train_labels)\n",
    "        predictions = classifier.predict(test_counts)\n",
    "        \n",
    "        accuracy.append(accuracy_score(test_labels, predictions))\n",
    "        precision.append(precision_score(test_labels, predictions))\n",
    "        recall.append(recall_score(test_labels, predictions))\n",
    "        f1.append(f1_score(test_labels, predictions))\n",
    "        scores = {'Accuracy': accuracy, 'Precision': precision, 'Recall': recall, 'F1': f1}\n",
    "        score_df = pd.DataFrame(data=scores)\n",
    "        \n",
    "    return score_df\n",
    "\n",
    "\n"
   ]
  },
  {
   "cell_type": "code",
   "execution_count": 10,
   "metadata": {},
   "outputs": [
    {
     "data": {
      "text/html": [
       "<div>\n",
       "<style scoped>\n",
       "    .dataframe tbody tr th:only-of-type {\n",
       "        vertical-align: middle;\n",
       "    }\n",
       "\n",
       "    .dataframe tbody tr th {\n",
       "        vertical-align: top;\n",
       "    }\n",
       "\n",
       "    .dataframe thead th {\n",
       "        text-align: right;\n",
       "    }\n",
       "</style>\n",
       "<table border=\"1\" class=\"dataframe\">\n",
       "  <thead>\n",
       "    <tr style=\"text-align: right;\">\n",
       "      <th></th>\n",
       "      <th>Accuracy</th>\n",
       "      <th>Precision</th>\n",
       "      <th>Recall</th>\n",
       "      <th>F1</th>\n",
       "    </tr>\n",
       "  </thead>\n",
       "  <tbody>\n",
       "    <tr>\n",
       "      <th>0</th>\n",
       "      <td>0.643411</td>\n",
       "      <td>0.587553</td>\n",
       "      <td>0.729058</td>\n",
       "      <td>0.650701</td>\n",
       "    </tr>\n",
       "    <tr>\n",
       "      <th>1</th>\n",
       "      <td>0.597496</td>\n",
       "      <td>0.553166</td>\n",
       "      <td>0.606021</td>\n",
       "      <td>0.578389</td>\n",
       "    </tr>\n",
       "    <tr>\n",
       "      <th>2</th>\n",
       "      <td>0.574836</td>\n",
       "      <td>0.532819</td>\n",
       "      <td>0.541885</td>\n",
       "      <td>0.537313</td>\n",
       "    </tr>\n",
       "    <tr>\n",
       "      <th>3</th>\n",
       "      <td>0.552177</td>\n",
       "      <td>0.509326</td>\n",
       "      <td>0.464660</td>\n",
       "      <td>0.485969</td>\n",
       "    </tr>\n",
       "    <tr>\n",
       "      <th>4</th>\n",
       "      <td>0.596899</td>\n",
       "      <td>0.543222</td>\n",
       "      <td>0.723822</td>\n",
       "      <td>0.620651</td>\n",
       "    </tr>\n",
       "    <tr>\n",
       "      <th>5</th>\n",
       "      <td>0.629100</td>\n",
       "      <td>0.587871</td>\n",
       "      <td>0.621728</td>\n",
       "      <td>0.604326</td>\n",
       "    </tr>\n",
       "    <tr>\n",
       "      <th>6</th>\n",
       "      <td>0.560525</td>\n",
       "      <td>0.517787</td>\n",
       "      <td>0.514398</td>\n",
       "      <td>0.516087</td>\n",
       "    </tr>\n",
       "    <tr>\n",
       "      <th>7</th>\n",
       "      <td>0.571258</td>\n",
       "      <td>0.529032</td>\n",
       "      <td>0.536649</td>\n",
       "      <td>0.532814</td>\n",
       "    </tr>\n",
       "    <tr>\n",
       "      <th>8</th>\n",
       "      <td>0.525343</td>\n",
       "      <td>0.464286</td>\n",
       "      <td>0.272251</td>\n",
       "      <td>0.343234</td>\n",
       "    </tr>\n",
       "    <tr>\n",
       "      <th>9</th>\n",
       "      <td>0.571258</td>\n",
       "      <td>0.530364</td>\n",
       "      <td>0.514398</td>\n",
       "      <td>0.522259</td>\n",
       "    </tr>\n",
       "  </tbody>\n",
       "</table>\n",
       "</div>"
      ],
      "text/plain": [
       "   Accuracy  Precision    Recall        F1\n",
       "0  0.643411   0.587553  0.729058  0.650701\n",
       "1  0.597496   0.553166  0.606021  0.578389\n",
       "2  0.574836   0.532819  0.541885  0.537313\n",
       "3  0.552177   0.509326  0.464660  0.485969\n",
       "4  0.596899   0.543222  0.723822  0.620651\n",
       "5  0.629100   0.587871  0.621728  0.604326\n",
       "6  0.560525   0.517787  0.514398  0.516087\n",
       "7  0.571258   0.529032  0.536649  0.532814\n",
       "8  0.525343   0.464286  0.272251  0.343234\n",
       "9  0.571258   0.530364  0.514398  0.522259"
      ]
     },
     "execution_count": 10,
     "metadata": {},
     "output_type": "execute_result"
    }
   ],
   "source": [
    "data = [df['essay0'], df['essay1'], df['essay2'], df['essay3'], df['essay4'], df['essay5'], df['essay6'], df['essay7'], df['essay8'], df['essay9']]\n",
    "#use top_essays function on all essays \n",
    "top_essays(data)"
   ]
  },
  {
   "cell_type": "code",
   "execution_count": 11,
   "metadata": {},
   "outputs": [],
   "source": [
    "#according to scores_df in top_essays, these are the top 3 essays for each type of score\n",
    "best_acc = df['essay5'] + df['essay0'] + df['essay4']\n",
    "best_precision = df['essay5'] + df['essay0'] + df['essay1']\n",
    "best_recall = df['essay0'] + df['essay4'] + df['essay5']\n",
    "best_f1 = df['essay0'] + df['essay4'] + df['essay5']"
   ]
  },
  {
   "cell_type": "code",
   "execution_count": 12,
   "metadata": {},
   "outputs": [],
   "source": [
    " #runinng new classifier with only best_f1 essays\n",
    "from sklearn.model_selection import train_test_split\n",
    "labels = df['offspring_label']\n",
    "train_data, test_data, train_labels, test_labels = train_test_split(best_f1, labels, test_size = 0.2, random_state = 1)"
   ]
  },
  {
   "cell_type": "code",
   "execution_count": 13,
   "metadata": {},
   "outputs": [],
   "source": [
    "from sklearn.feature_extraction.text import CountVectorizer\n",
    "counter = CountVectorizer()\n",
    "counter.fit(train_data, test_data)\n",
    "train_counts = counter.transform(train_data)\n",
    "test_counts = counter.transform(test_data)"
   ]
  },
  {
   "cell_type": "code",
   "execution_count": 14,
   "metadata": {},
   "outputs": [],
   "source": [
    "from sklearn.naive_bayes import MultinomialNB\n",
    "classifier = MultinomialNB()\n",
    "classifier.fit(train_counts, train_labels)\n",
    "predictions = classifier.predict(test_counts)\n",
    "#%timeit classifier.predict(test_counts)"
   ]
  },
  {
   "cell_type": "code",
   "execution_count": 15,
   "metadata": {},
   "outputs": [
    {
     "name": "stdout",
     "output_type": "stream",
     "text": [
      "[[441 472]\n",
      " [111 653]]\n"
     ]
    }
   ],
   "source": [
    "from sklearn.metrics import confusion_matrix\n",
    "print(confusion_matrix(test_labels, predictions))"
   ]
  },
  {
   "cell_type": "code",
   "execution_count": 16,
   "metadata": {},
   "outputs": [
    {
     "data": {
      "image/png": "[encoded data removed]",
      "text/plain": [
       "<Figure size 432x288 with 2 Axes>"
      ]
     },
     "metadata": {
      "needs_background": "light"
     },
     "output_type": "display_data"
    }
   ],
   "source": [
    "labels = ['Positive', 'Negative']\n",
    "\n",
    "matrix = confusion_matrix(test_labels, predictions)\n",
    "\n",
    "fig = plt.figure()\n",
    "ax = fig.add_subplot(111)\n",
    "cax = ax.matshow(matrix, interpolation='nearest')\n",
    "fig.colorbar(cax)\n",
    "\n",
    "ax.set_xticklabels(['']+labels)\n",
    "ax.set_yticklabels(['']+labels)\n",
    "\n",
    "plt.show()"
   ]
  },
  {
   "cell_type": "code",
   "execution_count": 17,
   "metadata": {},
   "outputs": [
    {
     "name": "stdout",
     "output_type": "stream",
     "text": [
      "accuracy score =  0.652355396541443\n",
      "precision score =  0.5804444444444444\n",
      "recall score =  0.8547120418848168\n",
      "F1 score =  0.691371095817893\n"
     ]
    }
   ],
   "source": [
    "from sklearn.metrics import accuracy_score, f1_score, precision_score, recall_score\n",
    "print('accuracy score = ', str(accuracy_score(test_labels, predictions)))\n",
    "print('precision score = ', str(precision_score(test_labels, predictions)))\n",
    "print('recall score = ', str(recall_score(test_labels, predictions)))\n",
    "print('F1 score = ', str(f1_score(test_labels, predictions)))"
   ]
  },
  {
   "cell_type": "code",
   "execution_count": 18,
   "metadata": {},
   "outputs": [
    {
     "name": "stdout",
     "output_type": "stream",
     "text": [
      "[1.]\n"
     ]
    }
   ],
   "source": [
    "#test clasifier on sample essay\n",
    "profile_test = '''I spend a lot of time thinking about my future and when I want kids.''' \n",
    "essay_count = counter.transform([profile_test])\n",
    "print(classifier.predict(essay_count))"
   ]
  }
 ],
 "metadata": {
  "kernelspec": {
   "display_name": "Python 3",
   "language": "python",
   "name": "python3"
  },
  "language_info": {
   "codemirror_mode": {
    "name": "ipython",
    "version": 3
   },
   "file_extension": ".py",
   "mimetype": "text/x-python",
   "name": "python",
   "nbconvert_exporter": "python",
   "pygments_lexer": "ipython3",
   "version": "3.7.0"
  }
 },
 "nbformat": 4,
 "nbformat_minor": 2
}
